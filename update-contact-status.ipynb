{
 "cells": [
  {
   "cell_type": "markdown",
   "metadata": {},
   "source": [
    "# Purpose\n",
    "This script will update the status of the provided contacts and their desired list to \"Subscribed\". Currently, there is no way to do this in bulk directly on ActiveCampaign.\n",
    "\n",
    "### Requirements\n",
    "* \"contacts.csv\" file with contact_id, list_name\n",
    "* each contact should have been previously subscribed to the list - this is not an import\n",
    "* chromedriver that matches your Chrome version (https://googlechromelabs.github.io/chrome-for-testing/)"
   ]
  },
  {
   "cell_type": "code",
   "execution_count": 19,
   "metadata": {},
   "outputs": [],
   "source": [
    "import csv\n",
    "import time\n",
    "from selenium import webdriver\n",
    "from selenium.webdriver.support.wait import WebDriverWait\n",
    "from selenium.webdriver.support import expected_conditions as EC\n",
    "from selenium.webdriver.common.by import By\n",
    "from selenium.webdriver.chrome.options import Options\n"
   ]
  },
  {
   "cell_type": "code",
   "execution_count": 12,
   "metadata": {},
   "outputs": [],
   "source": [
    "activecampaign_subdomain = 'your_subdomain'\n",
    "base_url = f'https://{activecampaign_subdomain}.activehosted.com/app/contacts/'"
   ]
  },
  {
   "cell_type": "markdown",
   "metadata": {},
   "source": []
  },
  {
   "cell_type": "code",
   "execution_count": 7,
   "metadata": {},
   "outputs": [],
   "source": [
    "# Read contacts from csv file\n",
    "def get_contact_ids():\n",
    "    csv_file_path = 'contacts.csv'\n",
    "    contacts = []\n",
    "\n",
    "    # Read the CSV file\n",
    "    with open(csv_file_path, mode='r') as file:\n",
    "        csv_reader = csv.reader(file)\n",
    "        \n",
    "        # Skip the header row if there is one\n",
    "        next(csv_reader, None)\n",
    "        for row in csv_reader:\n",
    "            contact_id = int(row[0])\n",
    "            list_name = row[1]\n",
    "            contacts.append({'contact_id': contact_id, 'list_name': list_name})\n",
    "\n",
    "    return contacts\n",
    "\n",
    "contacts = get_contact_ids()\n",
    "# list of dictionaries\n",
    "# {'contact_id': 2000, 'list_name': 'The list'}"
   ]
  },
  {
   "cell_type": "code",
   "execution_count": 8,
   "metadata": {},
   "outputs": [],
   "source": [
    "def initialize_driver():\n",
    "\t# Set up the Chrome options\n",
    "\tchrome_options = Options()\n",
    "\tchrome_options.add_experimental_option(\"detach\", True)  # To keep the browser open after the script finishes\n",
    "\t# chrome_options.headless = True  # Add this line to run Chrome in headless mode\n",
    "\n",
    "\t# Initialize the WebDriver\n",
    "\t# chrome_options.add_argument('--headless')\n",
    "\t# chrome_options.add_argument('--no-sandbox')\n",
    "\tdriver = webdriver.Chrome(options=chrome_options)\n",
    "\n",
    "\treturn driver\n",
    "\n",
    "driver = initialize_driver()"
   ]
  },
  {
   "cell_type": "code",
   "execution_count": 13,
   "metadata": {},
   "outputs": [],
   "source": [
    "# Navigate to the login page\n",
    "driver.get(f'https://{activecampaign_subdomain}.activehosted.com/app/login')\n",
    "\n",
    "# Log in manually by entering your username and password, and complete security prompt as required"
   ]
  },
  {
   "cell_type": "code",
   "execution_count": 22,
   "metadata": {},
   "outputs": [
    {
     "name": "stdout",
     "output_type": "stream",
     "text": [
      "0 {'contact_id': 1841, 'list_name': 'Private Label'}\n"
     ]
    }
   ],
   "source": [
    "# Iterate through every contact and set list status to Subscribed\n",
    "for index, contact in enumerate(contacts[0:1]):\n",
    "    print(index, contact)\n",
    "\n",
    "    # open contact page\n",
    "    driver.get(base_url + str(contact['contact_id']))\n",
    "    \n",
    "    # wait until page is loaded\n",
    "    WebDriverWait(driver, 10).until(EC.presence_of_element_located((By.CLASS_NAME, 'posrel.contact-view-wrap.contacts_edit')))\n",
    "    \n",
    "    # open list status modal window based on contact's list name (multiple lists are possible for each contact)\n",
    "    WebDriverWait(driver, 10).until(EC.element_to_be_clickable((By.XPATH, f\"//span[contains(@class, 'list-name contact-lists__list-item__name') and text() = '{contact['list_name']}']\"))).click()\n",
    "    time.sleep(1.0)\n",
    "\n",
    "    # open status drop-down\n",
    "    WebDriverWait(driver, 10).until(EC.element_to_be_clickable((By.CSS_SELECTOR, \".ac_button.small.grey-border.popover-trigger.nobmargin\"))).click()\n",
    "    time.sleep(1.0)\n",
    "\n",
    "    # click on \"subscribed\"\n",
    "    WebDriverWait(driver, 10).until(EC.element_to_be_clickable((By.CSS_SELECTOR, \".ac-icon-ok-circled\"))).click()\n",
    "    time.sleep(1.0)\n",
    "\n",
    "    # close list status modal window\n",
    "    WebDriverWait(driver, 10).until(EC.element_to_be_clickable((By.CSS_SELECTOR, \"camp-button[variant='outline']\"))).click()\n",
    "    time.sleep(1.0)"
   ]
  }
 ],
 "metadata": {
  "kernelspec": {
   "display_name": "Python 3",
   "language": "python",
   "name": "python3"
  },
  "language_info": {
   "codemirror_mode": {
    "name": "ipython",
    "version": 3
   },
   "file_extension": ".py",
   "mimetype": "text/x-python",
   "name": "python",
   "nbconvert_exporter": "python",
   "pygments_lexer": "ipython3",
   "version": "3.11.0"
  }
 },
 "nbformat": 4,
 "nbformat_minor": 2
}
